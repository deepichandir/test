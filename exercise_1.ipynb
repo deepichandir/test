{
 "cells": [
  {
   "cell_type": "code",
   "execution_count": 3,
   "id": "bb184c3b",
   "metadata": {},
   "outputs": [],
   "source": [
    "import numpy as np"
   ]
  },
  {
   "cell_type": "code",
   "execution_count": 4,
   "id": "e6192171",
   "metadata": {},
   "outputs": [],
   "source": [
    "def funct():\n",
    "    b=[]\n",
    "    n=int(input(\"enter the size\"))\n",
    "    for i in range(0,n):\n",
    "        print(\"enter the values\")\n",
    "        a=int(input())\n",
    "        b.append(a)\n",
    "        print(b)\n",
    "    uq=list(set(b))\n",
    "    print(uq)\n",
    "        \n",
    "        \n",
    "    "
   ]
  },
  {
   "cell_type": "code",
   "execution_count": 5,
   "id": "b54459e9",
   "metadata": {},
   "outputs": [
    {
     "name": "stdout",
     "output_type": "stream",
     "text": [
      "enter the size3\n",
      "enter the values\n",
      "1\n",
      "[1]\n",
      "enter the values\n",
      "2\n",
      "[1, 2]\n",
      "enter the values\n",
      "2\n",
      "[1, 2, 2]\n",
      "[1, 2]\n"
     ]
    }
   ],
   "source": [
    "funct()"
   ]
  },
  {
   "cell_type": "code",
   "execution_count": 8,
   "id": "693f13d4",
   "metadata": {},
   "outputs": [],
   "source": [
    "def avg():\n",
    "    c=[]\n",
    "    n=int(input(\"enter the size\"))\n",
    "    for i in range(0,n):\n",
    "        print(\"enter the values\")\n",
    "        a=int(input())\n",
    "        c.append(a)\n",
    "        print(c)\n",
    "        sum_list=sum(c)\n",
    "        print(sum_list)\n",
    "    avg=sum_list/n\n",
    "    print(avg)\n",
    "    \n",
    "    \n",
    "        \n",
    "    \n",
    "    "
   ]
  },
  {
   "cell_type": "code",
   "execution_count": 9,
   "id": "f4bbbd9e",
   "metadata": {},
   "outputs": [
    {
     "name": "stdout",
     "output_type": "stream",
     "text": [
      "enter the size3\n",
      "enter the values\n",
      "1\n",
      "[1]\n",
      "1\n",
      "enter the values\n",
      "2\n",
      "[1, 2]\n",
      "3\n",
      "enter the values\n",
      "3\n",
      "[1, 2, 3]\n",
      "6\n",
      "2.0\n"
     ]
    }
   ],
   "source": [
    "avg()"
   ]
  },
  {
   "cell_type": "code",
   "execution_count": 20,
   "id": "044f9ea2",
   "metadata": {},
   "outputs": [],
   "source": [
    "def mult():\n",
    "    n=int(input(\"enter the value\"))\n",
    "    x= n%5\n",
    "    y= n%7\n",
    "    if x == 0 and y == 0:\n",
    "        print(\"value is divisible by 5 and 7\")\n",
    "    elif x==0:\n",
    "        print(\"the value is divisible only by 5\")\n",
    "    elif y==0:\n",
    "        print(\"the value is divisible only by 7\")\n",
    "    else :\n",
    "        print(\"the value is not divisible\")"
   ]
  },
  {
   "cell_type": "code",
   "execution_count": 21,
   "id": "37242ddc",
   "metadata": {},
   "outputs": [
    {
     "name": "stdout",
     "output_type": "stream",
     "text": [
      "enter the value5\n",
      "the value is divisible only by 5\n"
     ]
    }
   ],
   "source": [
    "mult()"
   ]
  },
  {
   "cell_type": "code",
   "execution_count": 22,
   "id": "0ca5f793",
   "metadata": {},
   "outputs": [],
   "source": [
    "def rev():\n",
    "    n=int(input(\"enter the value\"))\n",
    "    b=0\n",
    "    while(n>0):\n",
    "        c=n%10\n",
    "        b=b*10+c\n",
    "        n=n//10\n",
    "        print(b)"
   ]
  },
  {
   "cell_type": "code",
   "execution_count": 23,
   "id": "e815a179",
   "metadata": {},
   "outputs": [
    {
     "name": "stdout",
     "output_type": "stream",
     "text": [
      "enter the value134\n",
      "4\n",
      "43\n",
      "431\n"
     ]
    }
   ],
   "source": [
    "rev()"
   ]
  },
  {
   "cell_type": "code",
   "execution_count": 29,
   "id": "4a9e1a72",
   "metadata": {},
   "outputs": [],
   "source": [
    "def o_fun():\n",
    "    a=int(input(\"entr the value a\"))\n",
    "    b=int(input(\"enter the valye b\"))\n",
    "    def i_fun():\n",
    "        print(\"the sum is\")\n",
    "        c=a+b\n",
    "        return(c)\n",
    "    d=i_fun()    \n",
    "    print(d+5)\n",
    "        \n",
    "    "
   ]
  },
  {
   "cell_type": "code",
   "execution_count": 30,
   "id": "8a0dde58",
   "metadata": {},
   "outputs": [
    {
     "name": "stdout",
     "output_type": "stream",
     "text": [
      "entr the value a6\n",
      "enter the valye b7\n",
      "the sum is\n",
      "18\n"
     ]
    }
   ],
   "source": [
    "o_fun()"
   ]
  },
  {
   "cell_type": "code",
   "execution_count": 40,
   "id": "d05ad164",
   "metadata": {},
   "outputs": [],
   "source": [
    "def leap_yr():\n",
    "    yr=int(input(\"enter the value\"))\n",
    "    chk=yr%400\n",
    "    chk2 = yr%4\n",
    "    chk3 = yr%100\n",
    "    if chk2 == 0 and chk==0:\n",
    "        print(\"it is leap year\")\n",
    "    else:\n",
    "        print(\"not a leap year\")"
   ]
  },
  {
   "cell_type": "code",
   "execution_count": 43,
   "id": "010f979b",
   "metadata": {},
   "outputs": [
    {
     "name": "stdout",
     "output_type": "stream",
     "text": [
      "enter the value2017\n",
      "not a leap year\n"
     ]
    }
   ],
   "source": [
    "leap_yr()"
   ]
  },
  {
   "cell_type": "code",
   "execution_count": null,
   "id": "e3d89567",
   "metadata": {},
   "outputs": [],
   "source": []
  },
  {
   "cell_type": "code",
   "execution_count": null,
   "id": "cd5b7b60",
   "metadata": {},
   "outputs": [],
   "source": []
  }
 ],
 "metadata": {
  "kernelspec": {
   "display_name": "Python 3 (ipykernel)",
   "language": "python",
   "name": "python3"
  },
  "language_info": {
   "codemirror_mode": {
    "name": "ipython",
    "version": 3
   },
   "file_extension": ".py",
   "mimetype": "text/x-python",
   "name": "python",
   "nbconvert_exporter": "python",
   "pygments_lexer": "ipython3",
   "version": "3.9.7"
  }
 },
 "nbformat": 4,
 "nbformat_minor": 5
}
